{
 "cells": [
  {
   "cell_type": "code",
   "execution_count": 1,
   "id": "initial_id",
   "metadata": {
    "collapsed": true
   },
   "outputs": [
    {
     "name": "stderr",
     "output_type": "stream",
     "text": [
      "/Users/diwashsapkota/Desktop/project/paper/venv/lib/python3.9/site-packages/urllib3/__init__.py:35: NotOpenSSLWarning: urllib3 v2 only supports OpenSSL 1.1.1+, currently the 'ssl' module is compiled with 'LibreSSL 2.8.3'. See: https://github.com/urllib3/urllib3/issues/3020\n",
      "  warnings.warn(\n",
      "[nltk_data] Downloading package punkt to\n",
      "[nltk_data]     /Users/diwashsapkota/nltk_data...\n",
      "[nltk_data]   Package punkt is already up-to-date!\n",
      "[nltk_data] Downloading package stopwords to\n",
      "[nltk_data]     /Users/diwashsapkota/nltk_data...\n",
      "[nltk_data]   Package stopwords is already up-to-date!\n",
      "[nltk_data] Downloading package wordnet to\n",
      "[nltk_data]     /Users/diwashsapkota/nltk_data...\n",
      "[nltk_data]   Package wordnet is already up-to-date!\n"
     ]
    },
    {
     "data": {
      "text/plain": [
       "True"
      ]
     },
     "execution_count": 1,
     "metadata": {},
     "output_type": "execute_result"
    }
   ],
   "source": [
    "# Import libraries\n",
    "import pandas as pd\n",
    "import numpy as np\n",
    "from sklearn.model_selection import train_test_split, cross_val_score\n",
    "from sklearn.feature_extraction.text import TfidfVectorizer\n",
    "from sklearn.preprocessing import StandardScaler\n",
    "from sklearn.linear_model import LogisticRegression\n",
    "from sklearn.naive_bayes import MultinomialNB\n",
    "from sklearn.svm import SVC\n",
    "from sklearn.ensemble import RandomForestClassifier\n",
    "from sklearn.metrics import accuracy_score, precision_score, recall_score, f1_score, roc_auc_score, classification_report, confusion_matrix\n",
    "from sklearn.pipeline import Pipeline\n",
    "from scipy.stats import ttest_rel\n",
    "import nltk\n",
    "from nltk.corpus import stopwords\n",
    "from nltk.tokenize import word_tokenize\n",
    "from nltk.stem import WordNetLemmatizer\n",
    "import re\n",
    "import matplotlib.pyplot as plt\n",
    "import seaborn as sns\n",
    "import joblib\n",
    "from gensim.models import Word2Vec\n",
    "import time\n",
    "\n",
    "# Download NLTK resources\n",
    "nltk.download('punkt')\n",
    "nltk.download('stopwords')\n",
    "nltk.download('wordnet')"
   ]
  },
  {
   "cell_type": "code",
   "execution_count": 2,
   "id": "data_loading",
   "metadata": {},
   "outputs": [],
   "source": [
    "# Load the dataset\n",
    "data = pd.read_csv('enrondataset.csv')"
   ]
  },
  {
   "cell_type": "code",
   "execution_count": 3,
   "id": "preprocessing",
   "metadata": {},
   "outputs": [],
   "source": [
    "# Data Preprocessing\n",
    "def preprocess_text(text):\n",
    "    text = str(text)\n",
    "    text = text.lower()\n",
    "    text = re.sub(r'[^a-zA-Z\\s]', '', text)\n",
    "    tokens = word_tokenize(text)\n",
    "    stop_words = set(stopwords.words('english'))\n",
    "    tokens = [word for word in tokens if word not in stop_words]\n",
    "    lemmatizer = WordNetLemmatizer()\n",
    "    tokens = [lemmatizer.lemmatize(word) for word in tokens]\n",
    "    return ' '.join(tokens)\n",
    "\n",
    "# Apply preprocessing\n",
    "data['cleaned_text'] = data['text'].apply(preprocess_text)\n",
    "data = data.dropna()\n",
    "data = data[data['cleaned_text'].str.strip() != '']"
   ]
  },
  {
   "cell_type": "code",
   "execution_count": 4,
   "id": "feature_extraction",
   "metadata": {},
   "outputs": [],
   "source": [
    "# Feature Extraction: TF-IDF\n",
    "tfidf = TfidfVectorizer(max_features=2000, stop_words='english')\n",
    "X_tfidf = tfidf.fit_transform(data['cleaned_text'])\n",
    "\n",
    "# Feature Extraction: Word2Vec\n",
    "tokenized_text = data['cleaned_text'].apply(word_tokenize)\n",
    "w2v_model = Word2Vec(sentences=tokenized_text, vector_size=50, window=5, min_count=1, workers=4)\n",
    "def get_w2v_features(text):\n",
    "    tokens = word_tokenize(text)\n",
    "    vectors = [w2v_model.wv[token] for token in tokens if token in w2v_model.wv]\n",
    "    return np.mean(vectors, axis=0) if vectors else np.zeros(50)\n",
    "w2v_features = np.array([get_w2v_features(text) for text in data['cleaned_text']])\n",
    "\n",
    "# Combine TF-IDF and Word2Vec features into a DataFrame\n",
    "X_tfidf_dense = X_tfidf.toarray()\n",
    "X_tfidf_dense = np.clip(X_tfidf_dense, a_min=0, a_max=1e6)\n",
    "scaler = StandardScaler()\n",
    "X_tfidf_scaled = scaler.fit_transform(X_tfidf_dense)\n",
    "\n",
    "# Create column names for DataFrame\n",
    "tfidf_columns = [f'tfidf_{i}' for i in range(2000)]\n",
    "w2v_columns = [f'w2v_{i}' for i in range(50)]\n",
    "all_columns = tfidf_columns + w2v_columns\n",
    "\n",
    "# Combine features into a DataFrame\n",
    "X_combined = pd.DataFrame(\n",
    "    np.hstack((X_tfidf_scaled, w2v_features)),\n",
    "    columns=all_columns\n",
    ")\n",
    "\n",
    "# Check for NaN or inf\n",
    "X_combined = X_combined.fillna(0)\n",
    "X_combined = X_combined.replace([np.inf, -np.inf], 0)"
   ]
  },
  {
   "cell_type": "code",
   "execution_count": 5,
   "id": "data_splitting",
   "metadata": {},
   "outputs": [],
   "source": [
    "# Labels\n",
    "y = data['label']\n",
    "\n",
    "# Split data\n",
    "X_train_combined, X_test_combined, y_train, y_test = train_test_split(X_combined, y, test_size=0.2, random_state=42, stratify=y)\n",
    "X_train_tfidf, X_test_tfidf = train_test_split(X_tfidf, test_size=0.2, random_state=42, stratify=y)\n",
    "X_train_w2v, X_test_w2v = train_test_split(w2v_features, test_size=0.2, random_state=42, stratify=y)"
   ]
  },
  {
   "cell_type": "code",
   "execution_count": 6,
   "id": "model_initialization",
   "metadata": {},
   "outputs": [],
   "source": [
    "# Initialize models\n",
    "models = {\n",
    "    'Logistic Regression': Pipeline([\n",
    "        ('scaler', StandardScaler(with_mean=False)),\n",
    "        ('classifier', LogisticRegression(C=0.1, solver='liblinear', max_iter=1000, random_state=42))\n",
    "    ]),\n",
    "    'Naive Bayes': Pipeline([\n",
    "        ('classifier', MultinomialNB())\n",
    "    ]),\n",
    "    'SVM': Pipeline([\n",
    "        ('scaler', StandardScaler(with_mean=False)),\n",
    "        ('classifier', SVC(C=1.0, probability=True, random_state=42))\n",
    "    ]),\n",
    "    'Random Forest': Pipeline([\n",
    "        ('classifier', RandomForestClassifier(n_estimators=100, random_state=42, n_jobs=-1))\n",
    "    ])\n",
    "}"
   ]
  },
  {
   "cell_type": "code",
   "execution_count": 7,
   "id": "ablation_study",
   "metadata": {},
   "outputs": [
    {
     "name": "stdout",
     "output_type": "stream",
     "text": [
      "Training Logistic Regression with TF-IDF features...\n",
      "Training Naive Bayes with TF-IDF features...\n",
      "Training SVM with TF-IDF features...\n",
      "Training Random Forest with TF-IDF features...\n",
      "Training Logistic Regression with Word2Vec features...\n",
      "Training SVM with Word2Vec features...\n",
      "Training Logistic Regression with Hybrid features...\n",
      "Training SVM with Hybrid features...\n",
      "\n",
      "Ablation Study Results:\n",
      "  Feature Set                Model  F1-Score\n",
      "0      TF-IDF  Logistic Regression  0.976247\n",
      "1      TF-IDF          Naive Bayes  0.976598\n",
      "2      TF-IDF                  SVM  0.982012\n",
      "3      TF-IDF        Random Forest  0.983097\n",
      "4    Word2Vec  Logistic Regression  0.959544\n",
      "5    Word2Vec                  SVM  0.977682\n",
      "6      Hybrid  Logistic Regression  0.981998\n",
      "7      Hybrid                  SVM  0.987757\n"
     ]
    },
    {
     "data": {
      "image/png": "[encoded data removed]",
      "text/plain": [
       "<Figure size 1200x600 with 1 Axes>"
      ]
     },
     "metadata": {},
     "output_type": "display_data"
    }
   ],
   "source": [
    "# Ablation study\n",
    "ablation_results = {'Feature Set': [], 'Model': [], 'F1-Score': []}\n",
    "feature_sets = {\n",
    "    'TF-IDF': (X_train_tfidf, X_test_tfidf),\n",
    "    'Word2Vec': (X_train_w2v, X_test_w2v),\n",
    "    'Hybrid': (X_train_combined, X_test_combined)\n",
    "}\n",
    "for feat_name, (X_train_feat, X_test_feat) in feature_sets.items():\n",
    "    for model_name, model in models.items():\n",
    "        if model_name in ['Naive Bayes', 'Random Forest'] and feat_name in ['Word2Vec', 'Hybrid']:\n",
    "            continue  # Skip incompatible combinations\n",
    "        print(f\"Training {model_name} with {feat_name} features...\")\n",
    "        model.fit(X_train_feat, y_train)\n",
    "        y_pred = model.predict(X_test_feat)\n",
    "        f1 = f1_score(y_test, y_pred, zero_division=0)\n",
    "        ablation_results['Feature Set'].append(feat_name)\n",
    "        ablation_results['Model'].append(model_name)\n",
    "        ablation_results['F1-Score'].append(f1)\n",
    "ablation_df = pd.DataFrame(ablation_results)\n",
    "ablation_df.to_csv('observations/ablation_study.csv', index=False)\n",
    "print(\"\\nAblation Study Results:\")\n",
    "print(ablation_df)\n",
    "plt.figure(figsize=(12, 6))\n",
    "sns.barplot(x='Model', y='F1-Score', hue='Feature Set', data=ablation_df)\n",
    "plt.title('Ablation Study: F1-Score by Feature Set')\n",
    "plt.xticks(rotation=45)\n",
    "plt.tight_layout()\n",
    "plt.savefig('observations/ablation_study.png')\n",
    "plt.show()"
   ]
  },
  {
   "cell_type": "code",
   "execution_count": null,
   "id": "training_evaluation",
   "metadata": {},
   "outputs": [
    {
     "name": "stdout",
     "output_type": "stream",
     "text": [
      "Training Logistic Regression...\n",
      "Finished training Logistic Regression in 7.20 seconds\n",
      "\n",
      "Classification Report for Logistic Regression:\n",
      "              precision    recall  f1-score   support\n",
      "\n",
      "           0       0.98      0.99      0.98      3009\n",
      "           1       0.98      0.98      0.98      2534\n",
      "\n",
      "    accuracy                           0.98      5543\n",
      "   macro avg       0.98      0.98      0.98      5543\n",
      "weighted avg       0.98      0.98      0.98      5543\n",
      "\n"
     ]
    },
    {
     "data": {
      "image/png": "[encoded data removed]",
      "text/plain": [
       "<Figure size 600x400 with 1 Axes>"
      ]
     },
     "metadata": {},
     "output_type": "display_data"
    },
    {
     "name": "stdout",
     "output_type": "stream",
     "text": [
      "Training Naive Bayes...\n",
      "Finished training Naive Bayes in 0.01 seconds\n",
      "\n",
      "Classification Report for Naive Bayes:\n",
      "              precision    recall  f1-score   support\n",
      "\n",
      "           0       0.98      0.98      0.98      3009\n",
      "           1       0.97      0.98      0.98      2534\n",
      "\n",
      "    accuracy                           0.98      5543\n",
      "   macro avg       0.98      0.98      0.98      5543\n",
      "weighted avg       0.98      0.98      0.98      5543\n",
      "\n"
     ]
    },
    {
     "data": {
      "image/png": "[encoded data removed]",
      "text/plain": [
       "<Figure size 600x400 with 1 Axes>"
      ]
     },
     "metadata": {},
     "output_type": "display_data"
    },
    {
     "name": "stdout",
     "output_type": "stream",
     "text": [
      "Training SVM...\n"
     ]
    }
   ],
   "source": [
    "# Performance metrics\n",
    "performance_metrics = {\n",
    "    'Model': [], 'Accuracy': [], 'Precision': [], 'Recall': [],\n",
    "    'F1-Score': [], 'ROC-AUC': [], 'CV F1-Score': [],\n",
    "    'Training Time (s)': [], 'Inference Time (s)': []\n",
    "}\n",
    "\n",
    "# Train and evaluate\n",
    "for model_name, model in models.items():\n",
    "    # Select appropriate training and test data\n",
    "    if model_name in ['Naive Bayes', 'Random Forest']:\n",
    "        X_train_current = X_train_tfidf\n",
    "        X_test_current = X_test_tfidf\n",
    "    else:\n",
    "        X_train_current = X_train_combined\n",
    "        X_test_current = X_test_combined\n",
    "\n",
    "    # Train with timing\n",
    "    print(f\"Training {model_name}...\")\n",
    "    start_time = time.time()\n",
    "    model.fit(X_train_current, y_train)\n",
    "    training_time = time.time() - start_time\n",
    "    print(f\"Finished training {model_name} in {training_time:.2f} seconds\")\n",
    "    \n",
    "    # Predict\n",
    "    start_time = time.time()\n",
    "    y_pred = model.predict(X_test_current)\n",
    "    inference_time = time.time() - start_time\n",
    "    y_prob = model.predict_proba(X_test_current)[:, 1] if hasattr(model, 'predict_proba') else model.decision_function(X_test_current)\n",
    "    \n",
    "    # Metrics\n",
    "    accuracy = accuracy_score(y_test, y_pred)\n",
    "    precision = precision_score(y_test, y_pred, zero_division=0)\n",
    "    recall = recall_score(y_test, y_pred, zero_division=0)\n",
    "    f1 = f1_score(y_test, y_pred, zero_division=0)\n",
    "    roc_auc = roc_auc_score(y_test, y_prob)\n",
    "    cv_scores = cross_val_score(model, X_train_current, y_train, cv=3, scoring='f1', n_jobs=-1)\n",
    "    \n",
    "    # Store metrics\n",
    "    performance_metrics['Model'].append(model_name)\n",
    "    performance_metrics['Accuracy'].append(accuracy)\n",
    "    performance_metrics['Precision'].append(precision)\n",
    "    performance_metrics['Recall'].append(recall)\n",
    "    performance_metrics['F1-Score'].append(f1)\n",
    "    performance_metrics['ROC-AUC'].append(roc_auc)\n",
    "    performance_metrics['CV F1-Score'].append(cv_scores.mean())\n",
    "    performance_metrics['Training Time (s)'].append(training_time)\n",
    "    performance_metrics['Inference Time (s)'].append(inference_time)\n",
    "    \n",
    "    # Classification report\n",
    "    print(f\"\\nClassification Report for {model_name}:\")\n",
    "    print(classification_report(y_test, y_pred, zero_division=0))\n",
    "    \n",
    "    # Confusion matrix\n",
    "    cm = confusion_matrix(y_test, y_pred)\n",
    "    plt.figure(figsize=(6, 4))\n",
    "    sns.heatmap(cm, annot=True, fmt='d', cmap='Blues', cbar=False,\n",
    "                xticklabels=['Non-Spam', 'Spam'], yticklabels=['Non-Spam', 'Spam'])\n",
    "    plt.title(f'Confusion Matrix for {model_name}')\n",
    "    plt.xlabel('Predicted')\n",
    "    plt.ylabel('Actual')\n",
    "    plt.tight_layout()\n",
    "    plt.savefig(f'observations/confusion_matrix_{model_name.lower().replace(\" \", \"_\")}.png')\n",
    "    plt.show()\n",
    "    \n",
    "    # Feature importance for Random Forest\n",
    "    if model_name == 'Random Forest':\n",
    "        rf_model = model.named_steps['classifier']\n",
    "        importances = rf_model.feature_importances_\n",
    "        feature_names = tfidf.get_feature_names_out()\n",
    "        importance_df = pd.DataFrame({'Feature': feature_names, 'Importance': importances})\n",
    "        importance_df = importance_df.sort_values('Importance', ascending=False).head(10)\n",
    "        plt.figure(figsize=(10, 6))\n",
    "        sns.barplot(x='Importance', y='Feature', data=importance_df)\n",
    "        plt.title('Top 10 Feature Importances for Random Forest')\n",
    "        plt.tight_layout()\n",
    "        plt.savefig('observations/rf_feature_importances.png')\n",
    "        plt.show()"
   ]
  },
  {
   "cell_type": "code",
   "execution_count": 9,
   "id": "performance_summary",
   "metadata": {},
   "outputs": [
    {
     "name": "stdout",
     "output_type": "stream",
     "text": [
      "\n",
      "Performance Metrics Summary:\n",
      "                 Model  Accuracy  Precision    Recall  F1-Score   ROC-AUC  \\\n",
      "0  Logistic Regression  0.983583   0.984530  0.979479  0.981998  0.998144   \n",
      "1          Naive Bayes  0.978531   0.973344  0.979874  0.976598  0.996002   \n",
      "2                  SVM  0.988815   0.988538  0.986977  0.987757  0.998358   \n",
      "3        Random Forest  0.984485   0.979248  0.986977  0.983097  0.997867   \n",
      "\n",
      "   CV F1-Score  Training Time (s)  Inference Time (s)  \n",
      "0     0.980813           7.043383            0.019529  \n",
      "1     0.973948           0.010102            0.001824  \n",
      "2     0.985588         961.971363           15.429181  \n",
      "3     0.977953           0.881014            0.021494  \n",
      "\n",
      "Performance metrics saved to 'performance_metrics.csv'\n"
     ]
    }
   ],
   "source": [
    "# Performance summary\n",
    "performance_df = pd.DataFrame(performance_metrics)\n",
    "print(\"\\nPerformance Metrics Summary:\")\n",
    "print(performance_df)\n",
    "\n",
    "# Save performance metrics to CSV for research report\n",
    "performance_df.to_csv('observations/performance_metrics.csv', index=False)\n",
    "print(\"\\nPerformance metrics saved to 'observations/performance_metrics.csv'\")"
   ]
  },
  {
   "cell_type": "code",
   "execution_count": 10,
   "id": "statistical_tests",
   "metadata": {},
   "outputs": [
    {
     "name": "stdout",
     "output_type": "stream",
     "text": [
      "\n",
      "Pairwise T-tests for F1-Scores:\n",
      "Logistic Regression vs. Naive Bayes: t=7.3787, p=0.0179\n",
      "Logistic Regression vs. SVM: t=-24.2273, p=0.0017\n",
      "Logistic Regression vs. Random Forest: t=14.1242, p=0.0050\n",
      "Naive Bayes vs. SVM: t=-15.2215, p=0.0043\n",
      "Naive Bayes vs. Random Forest: t=-4.2314, p=0.0516\n",
      "SVM vs. Random Forest: t=22.3224, p=0.0020\n"
     ]
    }
   ],
   "source": [
    "# Statistical tests\n",
    "print(\"\\nPairwise T-tests for F1-Scores:\")\n",
    "model_names = list(models.keys())\n",
    "cv_f1_scores = {name: cross_val_score(model, X_train_tfidf if name in ['Naive Bayes', 'Random Forest'] else X_train_combined, y_train, cv=3, scoring='f1', n_jobs=-1) for name, model in models.items()}\n",
    "for i in range(len(model_names)):\n",
    "    for j in range(i+1, len(model_names)):\n",
    "        m1, m2 = model_names[i], model_names[j]\n",
    "        t_stat, p_value = ttest_rel(cv_f1_scores[m1], cv_f1_scores[m2])\n",
    "        print(f\"{m1} vs. {m2}: t={t_stat:.4f}, p={p_value:.4f}\")"
   ]
  },
  {
   "cell_type": "code",
   "execution_count": null,
   "id": "visualizations",
   "metadata": {},
   "outputs": [
    {
     "ename": "NameError",
     "evalue": "name 'plt' is not defined",
     "output_type": "error",
     "traceback": [
      "\u001b[0;31m---------------------------------------------------------------------------\u001b[0m",
      "\u001b[0;31mNameError\u001b[0m                                 Traceback (most recent call last)",
      "Cell \u001b[0;32mIn[1], line 2\u001b[0m\n\u001b[1;32m      1\u001b[0m \u001b[38;5;66;03m# Plot F1-scores\u001b[39;00m\n\u001b[0;32m----> 2\u001b[0m \u001b[43mplt\u001b[49m\u001b[38;5;241m.\u001b[39mfigure(figsize\u001b[38;5;241m=\u001b[39m(\u001b[38;5;241m12\u001b[39m, \u001b[38;5;241m6\u001b[39m))\n\u001b[1;32m      3\u001b[0m sns\u001b[38;5;241m.\u001b[39mbarplot(x\u001b[38;5;241m=\u001b[39m\u001b[38;5;124m'\u001b[39m\u001b[38;5;124mModel\u001b[39m\u001b[38;5;124m'\u001b[39m, y\u001b[38;5;241m=\u001b[39m\u001b[38;5;124m'\u001b[39m\u001b[38;5;124mF1-Score\u001b[39m\u001b[38;5;124m'\u001b[39m, data\u001b[38;5;241m=\u001b[39mperformance_df)\n\u001b[1;32m      4\u001b[0m plt\u001b[38;5;241m.\u001b[39mtitle(\u001b[38;5;124m'\u001b[39m\u001b[38;5;124mModel Comparison based on F1-Score\u001b[39m\u001b[38;5;124m'\u001b[39m)\n",
      "\u001b[0;31mNameError\u001b[0m: name 'plt' is not defined"
     ]
    }
   ],
   "source": [
    "# Plot F1-scores\n",
    "plt.figure(figsize=(12, 6))\n",
    "sns.barplot(x='Model', y='F1-Score', data=performance_df)\n",
    "plt.title('Model Comparison based on F1-Score')\n",
    "plt.xticks(rotation=45)\n",
    "plt.tight_layout()\n",
    "plt.savefig('observations/model_comparison_f1.png')\n",
    "plt.show()\n",
    "\n",
    "# Plot training times\n",
    "plt.figure(figsize=(12, 6))\n",
    "sns.barplot(x='Model', y='Training Time (s)', data=performance_df)\n",
    "plt.title('Model Comparison based on Training Time')\n",
    "plt.xticks(rotation=45)\n",
    "plt.tight_layout()\n",
    "plt.savefig('observations/model_comparison_training_time.png')\n",
    "plt.show()\n",
    "\n",
    "# Plot inference times\n",
    "plt.figure(figsize=(12, 6))\n",
    "sns.barplot(x='Model', y='Inference Time (s)', data=performance_df)\n",
    "plt.title('Model Comparison based on Inference Time')\n",
    "plt.xticks(rotation=45)\n",
    "plt.tight_layout()\n",
    "plt.savefig('model_comparison_inference_time.png')\n",
    "plt.show()"
   ]
  },
  {
   "cell_type": "code",
   "execution_count": 12,
   "id": "model_saving",
   "metadata": {},
   "outputs": [
    {
     "name": "stdout",
     "output_type": "stream",
     "text": [
      "\n",
      "Best model (SVM), TF-IDF vectorizer, scaler, and Word2Vec model saved.\n"
     ]
    }
   ],
   "source": [
    "# Save best model\n",
    "best_model_name = performance_df.loc[performance_df['F1-Score'].idxmax(), 'Model']\n",
    "best_model = models[best_model_name]\n",
    "joblib.dump(best_model, 'best_spam_classifier.pkl')\n",
    "joblib.dump(tfidf, 'tfidf_vectorizer.pkl')\n",
    "joblib.dump(scaler, 'scaler.pkl')\n",
    "joblib.dump(w2v_model, 'w2v_model.pkl')\n",
    "print(f\"\\nBest model ({best_model_name}), TF-IDF vectorizer, scaler, and Word2Vec model saved.\")"
   ]
  }
 ],
 "metadata": {
  "kernelspec": {
   "display_name": "venv",
   "language": "python",
   "name": "python3"
  },
  "language_info": {
   "codemirror_mode": {
    "name": "ipython",
    "version": 3
   },
   "file_extension": ".py",
   "mimetype": "text/x-python",
   "name": "python",
   "nbconvert_exporter": "python",
   "pygments_lexer": "ipython3",
   "version": "3.9.6"
  }
 },
 "nbformat": 4,
 "nbformat_minor": 5
}
